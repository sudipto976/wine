{
 "cells": [
  {
   "cell_type": "code",
   "execution_count": 5,
   "id": "eea63455-906a-4e61-b5bd-674379eca437",
   "metadata": {},
   "outputs": [
    {
     "ename": "TypeError",
     "evalue": "object of type 'int' has no len()",
     "output_type": "error",
     "traceback": [
      "\u001b[1;31m---------------------------------------------------------------------------\u001b[0m",
      "\u001b[1;31mTypeError\u001b[0m                                 Traceback (most recent call last)",
      "Cell \u001b[1;32mIn[5], line 53\u001b[0m\n\u001b[0;32m     29\u001b[0m         pprint(mv, indent\u001b[38;5;241m=\u001b[39m\u001b[38;5;241m4\u001b[39m)\n\u001b[0;32m     31\u001b[0m     \u001b[38;5;66;03m#     if mv[\"run_id\"] == lowest_run_id:\u001b[39;00m\n\u001b[0;32m     32\u001b[0m     \u001b[38;5;66;03m#         current_version = mv[\"version\"]\u001b[39;00m\n\u001b[0;32m     33\u001b[0m     \u001b[38;5;66;03m#         logged_model = mv[\"source\"]\u001b[39;00m\n\u001b[1;32m   (...)\u001b[0m\n\u001b[0;32m     50\u001b[0m \n\u001b[0;32m     51\u001b[0m     \u001b[38;5;66;03m# joblib.dump(logged_model, model_path)\u001b[39;00m\n\u001b[1;32m---> 53\u001b[0m \u001b[43mlog_production_model\u001b[49m\u001b[43m(\u001b[49m\u001b[38;5;124;43m\"\u001b[39;49m\u001b[38;5;124;43mparams.yaml\u001b[39;49m\u001b[38;5;124;43m\"\u001b[39;49m\u001b[43m)\u001b[49m\n",
      "Cell \u001b[1;32mIn[5], line 22\u001b[0m, in \u001b[0;36mlog_production_model\u001b[1;34m(config_path)\u001b[0m\n\u001b[0;32m     18\u001b[0m remote_server_uri \u001b[38;5;241m=\u001b[39m mlflow_config[\u001b[38;5;124m\"\u001b[39m\u001b[38;5;124mremote_server_uri\u001b[39m\u001b[38;5;124m\"\u001b[39m]\n\u001b[0;32m     20\u001b[0m mlflow\u001b[38;5;241m.\u001b[39mset_registry_uri(remote_server_uri)\n\u001b[1;32m---> 22\u001b[0m runs \u001b[38;5;241m=\u001b[39m \u001b[43mmlflow\u001b[49m\u001b[38;5;241;43m.\u001b[39;49m\u001b[43msearch_runs\u001b[49m\u001b[43m(\u001b[49m\u001b[43mexperiment_ids\u001b[49m\u001b[38;5;241;43m=\u001b[39;49m\u001b[38;5;241;43m1\u001b[39;49m\u001b[43m)\u001b[49m\n\u001b[0;32m     23\u001b[0m lowest \u001b[38;5;241m=\u001b[39m runs[\u001b[38;5;124m\"\u001b[39m\u001b[38;5;124mmetrics.mae\u001b[39m\u001b[38;5;124m\"\u001b[39m]\u001b[38;5;241m.\u001b[39msort_values(ascending\u001b[38;5;241m=\u001b[39m\u001b[38;5;28;01mTrue\u001b[39;00m)[\u001b[38;5;241m0\u001b[39m]\n\u001b[0;32m     24\u001b[0m lowest_run_id \u001b[38;5;241m=\u001b[39m runs[runs[\u001b[38;5;124m\"\u001b[39m\u001b[38;5;124mmetrics.mae\u001b[39m\u001b[38;5;124m\"\u001b[39m] \u001b[38;5;241m==\u001b[39m lowest][\u001b[38;5;124m\"\u001b[39m\u001b[38;5;124mrun_id\u001b[39m\u001b[38;5;124m\"\u001b[39m][\u001b[38;5;241m0\u001b[39m]\n",
      "File \u001b[1;32m~\\anaconda3\\envs\\wineq\\lib\\site-packages\\mlflow\\tracking\\fluent.py:1642\u001b[0m, in \u001b[0;36msearch_runs\u001b[1;34m(experiment_ids, filter_string, run_view_type, max_results, order_by, output_format, search_all_experiments, experiment_names)\u001b[0m\n\u001b[0;32m   1553\u001b[0m \u001b[38;5;28;01mdef\u001b[39;00m \u001b[38;5;21msearch_runs\u001b[39m(\n\u001b[0;32m   1554\u001b[0m     experiment_ids: Optional[List[\u001b[38;5;28mstr\u001b[39m]] \u001b[38;5;241m=\u001b[39m \u001b[38;5;28;01mNone\u001b[39;00m,\n\u001b[0;32m   1555\u001b[0m     filter_string: \u001b[38;5;28mstr\u001b[39m \u001b[38;5;241m=\u001b[39m \u001b[38;5;124m\"\u001b[39m\u001b[38;5;124m\"\u001b[39m,\n\u001b[1;32m   (...)\u001b[0m\n\u001b[0;32m   1561\u001b[0m     experiment_names: Optional[List[\u001b[38;5;28mstr\u001b[39m]] \u001b[38;5;241m=\u001b[39m \u001b[38;5;28;01mNone\u001b[39;00m,\n\u001b[0;32m   1562\u001b[0m ) \u001b[38;5;241m-\u001b[39m\u001b[38;5;241m>\u001b[39m Union[List[Run], \u001b[38;5;124m\"\u001b[39m\u001b[38;5;124mpandas.DataFrame\u001b[39m\u001b[38;5;124m\"\u001b[39m]:\n\u001b[0;32m   1563\u001b[0m \u001b[38;5;250m    \u001b[39m\u001b[38;5;124;03m\"\"\"\u001b[39;00m\n\u001b[0;32m   1564\u001b[0m \u001b[38;5;124;03m    Search for Runs that fit the specified criteria.\u001b[39;00m\n\u001b[0;32m   1565\u001b[0m \n\u001b[1;32m   (...)\u001b[0m\n\u001b[0;32m   1640\u001b[0m \u001b[38;5;124;03m        1       1.55       1.1.0-RC  5cc7feaf532f496f885ad7750809c4d4\u001b[39;00m\n\u001b[0;32m   1641\u001b[0m \u001b[38;5;124;03m    \"\"\"\u001b[39;00m\n\u001b[1;32m-> 1642\u001b[0m     no_ids \u001b[38;5;241m=\u001b[39m experiment_ids \u001b[38;5;129;01mis\u001b[39;00m \u001b[38;5;28;01mNone\u001b[39;00m \u001b[38;5;129;01mor\u001b[39;00m \u001b[38;5;28;43mlen\u001b[39;49m\u001b[43m(\u001b[49m\u001b[43mexperiment_ids\u001b[49m\u001b[43m)\u001b[49m \u001b[38;5;241m==\u001b[39m \u001b[38;5;241m0\u001b[39m\n\u001b[0;32m   1643\u001b[0m     no_names \u001b[38;5;241m=\u001b[39m experiment_names \u001b[38;5;129;01mis\u001b[39;00m \u001b[38;5;28;01mNone\u001b[39;00m \u001b[38;5;129;01mor\u001b[39;00m \u001b[38;5;28mlen\u001b[39m(experiment_names) \u001b[38;5;241m==\u001b[39m \u001b[38;5;241m0\u001b[39m\n\u001b[0;32m   1644\u001b[0m     no_ids_or_names \u001b[38;5;241m=\u001b[39m no_ids \u001b[38;5;129;01mand\u001b[39;00m no_names\n",
      "\u001b[1;31mTypeError\u001b[0m: object of type 'int' has no len()"
     ]
    }
   ],
   "source": [
    "from src.get_data import read_params\n",
    "import argparse\n",
    "import mlflow\n",
    "from mlflow.tracking import MlflowClient\n",
    "from pprint import pprint\n",
    "import joblib\n",
    "import os\n",
    "\n",
    "os.chdir('C:\\\\Users\\\\sudip\\\\OneDrive\\\\Desktop\\\\mlops\\\\nam')\n",
    "\n",
    "def log_production_model(config_path):\n",
    "    config = read_params(config_path)\n",
    "\n",
    "    mlflow_config = config[\"mlflow_config\"]\n",
    "\n",
    "    model_name = mlflow_config[\"registered_model_name\"]\n",
    "\n",
    "    remote_server_uri = mlflow_config[\"remote_server_uri\"]\n",
    "\n",
    "    mlflow.set_registry_uri(remote_server_uri)\n",
    "\n",
    "    runs = mlflow.search_runs(experiment_ids=1)\n",
    "    lowest = runs[\"metrics.mae\"].sort_values(ascending=True)[0]\n",
    "    lowest_run_id = runs[runs[\"metrics.mae\"] == lowest][\"run_id\"][0]\n",
    "\n",
    "    client = MlflowClient()\n",
    "    for mv in client.search_model_versions(f\"name='{model_name}'\"):\n",
    "        mv = dict(mv)\n",
    "        pprint(mv, indent=4)\n",
    "\n",
    "    #     if mv[\"run_id\"] == lowest_run_id:\n",
    "    #         current_version = mv[\"version\"]\n",
    "    #         logged_model = mv[\"source\"]\n",
    "    #         pprint(mv, indent=4)\n",
    "    #         client.transition_model_version_stage(\n",
    "    #             name=model_name,\n",
    "    #             version=current_version,\n",
    "    #             stage=\"Production\"\n",
    "    #         )\n",
    "    #     else:\n",
    "    #         current_version = mv[\"version\"]\n",
    "    #         client.transition_model_version_stage(\n",
    "    #             name=model_name,\n",
    "    #             version=current_version,\n",
    "    #             stage=\"Staging\"\n",
    "    #         )\n",
    "\n",
    "    # logged_model = mlflow.pyfunc.load_model(logged_model)\n",
    "    # model_path = config[\"webapp_model_dir\"]\n",
    "\n",
    "    # joblib.dump(logged_model, model_path)\n",
    "\n",
    "log_production_model(\"params.yaml\")"
   ]
  },
  {
   "cell_type": "code",
   "execution_count": 2,
   "id": "602557d9-ada6-4031-9158-c404fd8cdd2f",
   "metadata": {},
   "outputs": [
    {
     "data": {
      "text/plain": [
       "'C:\\\\Users\\\\sudip\\\\OneDrive\\\\Desktop\\\\mlops\\\\nam\\\\notebooks'"
      ]
     },
     "execution_count": 2,
     "metadata": {},
     "output_type": "execute_result"
    }
   ],
   "source": [
    "\n"
   ]
  },
  {
   "cell_type": "code",
   "execution_count": null,
   "id": "abc66f5b-889e-43bc-b0a1-916d15ca3b29",
   "metadata": {},
   "outputs": [],
   "source": []
  }
 ],
 "metadata": {
  "kernelspec": {
   "display_name": "Python 3 (ipykernel)",
   "language": "python",
   "name": "python3"
  },
  "language_info": {
   "codemirror_mode": {
    "name": "ipython",
    "version": 3
   },
   "file_extension": ".py",
   "mimetype": "text/x-python",
   "name": "python",
   "nbconvert_exporter": "python",
   "pygments_lexer": "ipython3",
   "version": "3.8.17"
  }
 },
 "nbformat": 4,
 "nbformat_minor": 5
}
